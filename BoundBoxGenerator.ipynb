{
 "cells": [
  {
   "metadata": {
    "ExecuteTime": {
     "end_time": "2025-07-07T11:42:10.672740Z",
     "start_time": "2025-07-07T11:42:10.548360Z"
    }
   },
   "cell_type": "code",
   "source": [
    "import os\n",
    "import nibabel as nib\n",
    "import numpy as np\n",
    "import json\n",
    "import pandas as pd"
   ],
   "id": "34e484de58b3cfea",
   "outputs": [],
   "execution_count": 1
  },
  {
   "metadata": {
    "ExecuteTime": {
     "end_time": "2025-07-07T11:42:27.884628Z",
     "start_time": "2025-07-07T11:42:27.338247Z"
    }
   },
   "cell_type": "code",
   "source": [
    "excel_path = 'D:\\\\OneDrive - Imperial College London\\\\Documents\\\\Student Projects\\\\Kaihe Zhang\\\\PairedData.xlsx'\n",
    "\n",
    "df = pd.read_excel(excel_path)\n",
    "sample_ids = df.iloc[:, 0].astype(str).tolist()\n",
    "\n",
    "root_folder = 'D:\\\\OneDrive - Imperial College London\\\\Documents\\\\Student Projects\\\\Kaihe Zhang\\\\TestingData'\n"
   ],
   "id": "d6f148c49a01beb1",
   "outputs": [],
   "execution_count": 4
  },
  {
   "metadata": {
    "ExecuteTime": {
     "end_time": "2025-07-07T11:42:29.610111Z",
     "start_time": "2025-07-07T11:42:29.604141Z"
    }
   },
   "cell_type": "code",
   "source": [
    "seg_file_dict = {}\n",
    "for dirpath, dirnames, filenames in os.walk(root_folder):\n",
    "    for filename in filenames:\n",
    "        if filename.startswith('seg') and filename.endswith('.nii.gz'):\n",
    "            seg_file_dict[filename] = os.path.join(dirpath, filename)"
   ],
   "id": "6171f331fd67c57a",
   "outputs": [],
   "execution_count": 5
  },
  {
   "metadata": {
    "collapsed": true,
    "jupyter": {
     "is_executing": true
    },
    "ExecuteTime": {
     "start_time": "2025-07-07T12:31:49.718661Z"
    }
   },
   "cell_type": "code",
   "source": [
    "def get_bbox_from_mask(mask_path):\n",
    "    mask_img = nib.load(mask_path)\n",
    "    mask_data = mask_img.get_fdata()\n",
    "    coords = np.argwhere(mask_data > 0)\n",
    "    if coords.size == 0:\n",
    "        raise ValueError(f\"No segmented region found in {mask_path}\")\n",
    "    x_min, y_min, z_min = coords.min(axis=0)\n",
    "    x_max, y_max, z_max = coords.max(axis=0)\n",
    "    return {\n",
    "        \"x_min\": int(x_min), \"x_max\": int(x_max + 1),\n",
    "        \"y_min\": int(y_min), \"y_max\": int(y_max + 1),\n",
    "        \"z_min\": int(z_min), \"z_max\": int(z_max + 1)\n",
    "    }\n",
    "\n",
    "bbox_coords = {}\n",
    "for sample_id in sample_ids:\n",
    "    seg_filename = f\"seg{sample_id}.nii.gz\"\n",
    "    seg_path = seg_file_dict.get(seg_filename, None)\n",
    "    if seg_path is not None:\n",
    "        try:\n",
    "            bbox = get_bbox_from_mask(seg_path)\n",
    "            bbox_coords[seg_filename] = bbox\n",
    "        except Exception as e:\n",
    "            print(f\"Error for {sample_id}: {e}\")\n",
    "    else:\n",
    "        print(f\"[WARN] No seg file found for {sample_id}\")\n",
    "\n",
    "with open('1bbox_coords.json', 'w') as f:\n",
    "    json.dump(bbox_coords, f, indent=2, ensure_ascii=False)\n",
    "\n",
    "print('Bounding Box 坐标已保存至 bbox_coords.json 文件中。')\n"
   ],
   "id": "initial_id",
   "outputs": [],
   "execution_count": null
  },
  {
   "metadata": {
    "ExecuteTime": {
     "end_time": "2025-07-07T12:31:42.661767Z",
     "start_time": "2025-07-07T12:31:42.657535Z"
    }
   },
   "cell_type": "code",
   "source": "",
   "id": "c0fe8f6bc0f970e1",
   "outputs": [],
   "execution_count": null
  },
  {
   "metadata": {},
   "cell_type": "code",
   "outputs": [],
   "execution_count": null,
   "source": "",
   "id": "84cbc3ccfa723c35"
  }
 ],
 "metadata": {
  "kernelspec": {
   "display_name": "Python 3",
   "language": "python",
   "name": "python3"
  },
  "language_info": {
   "codemirror_mode": {
    "name": "ipython",
    "version": 2
   },
   "file_extension": ".py",
   "mimetype": "text/x-python",
   "name": "python",
   "nbconvert_exporter": "python",
   "pygments_lexer": "ipython2",
   "version": "2.7.6"
  }
 },
 "nbformat": 4,
 "nbformat_minor": 5
}
